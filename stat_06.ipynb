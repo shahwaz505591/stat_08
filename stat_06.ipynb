{
 "cells": [
  {
   "cell_type": "markdown",
   "id": "c9ddcbbe-d3e3-4ab4-8a83-89cb163166de",
   "metadata": {},
   "source": [
    "Q1. Python function for F-value calculation:\n",
    "\n",
    "import numpy as np\n",
    "from scipy.stats import f\n",
    "\n",
    "def calculate_f_value(data1, data2):\n",
    "    # Calculate variances\n",
    "    var1 = np.var(data1, ddof=1)\n",
    "    var2 = np.var(data2, ddof=1)\n",
    "    \n",
    "    # Calculate F-value\n",
    "    f_value = var1 / var2 if var1 >= var2 else var2 / var1\n",
    "    \n",
    "    # Degrees of freedom\n",
    "    df1 = len(data1) - 1\n",
    "    df2 = len(data2) - 1\n",
    "    \n",
    "    # Calculate p-value\n",
    "    p_value = 2 * min(f.cdf(f_value, df1, df2), 1 - f.cdf(f_value, df1, df2))\n",
    "    \n",
    "    return f_value, p_value\n",
    "\n",
    "# Example usage:\n",
    "data1 = [3, 4, 5, 6, 7]\n",
    "data2 = [5, 6, 7, 8, 9]\n",
    "f_value, p_value = calculate_f_value(data1, data2)\n",
    "print(\"F-value:\", f_value)\n",
    "print(\"p-value:\", p_value)\n"
   ]
  },
  {
   "cell_type": "markdown",
   "id": "86c882fa-e5d0-4ed8-9742-fa4bed71e735",
   "metadata": {},
   "source": [
    "Q2. Python function for critical F-value calculation:\n",
    "\n",
    "from scipy.stats import f\n",
    "\n",
    "def critical_f_value(alpha, df1, df2):\n",
    "    return f.ppf(1 - alpha/2, df1, df2)\n",
    "\n",
    "# Example usage:\n",
    "alpha = 0.05\n",
    "df1 = 3\n",
    "df2 = 20\n",
    "critical_f = critical_f_value(alpha, df1, df2)\n",
    "print(\"Critical F-value:\", critical_f)\n"
   ]
  },
  {
   "cell_type": "markdown",
   "id": "b99c9dcd-415e-46ac-b9dc-dccff6010b26",
   "metadata": {},
   "source": [
    "Q3. Python program for F-test on random samples:\n",
    "\n",
    "import numpy as np\n",
    "from scipy.stats import f\n",
    "\n",
    "def f_test_random_samples(sample1, sample2):\n",
    "    # Calculate variances\n",
    "    var1 = np.var(sample1, ddof=1)\n",
    "    var2 = np.var(sample2, ddof=1)\n",
    "    \n",
    "    # Calculate F-value\n",
    "    f_value = var1 / var2 if var1 >= var2 else var2 / var1\n",
    "    \n",
    "    # Degrees of freedom\n",
    "    df1 = len(sample1) - 1\n",
    "    df2 = len(sample2) - 1\n",
    "    \n",
    "    # Calculate p-value\n",
    "    p_value = 2 * min(f.cdf(f_value, df1, df2), 1 - f.cdf(f_value, df1, df2))\n",
    "    \n",
    "    return f_value, df1, df2, p_value\n",
    "\n",
    "# Example usage:\n",
    "np.random.seed(42)\n",
    "sample1 = np.random.normal(0, 1, 30)\n",
    "sample2 = np.random.normal(0, 1.5, 30)\n",
    "result = f_test_random_samples(sample1, sample2)\n",
    "print(\"F-value:\", result[0])\n",
    "print(\"Degrees of Freedom:\", result[1], result[2])\n",
    "print(\"p-value:\", result[3])\n"
   ]
  },
  {
   "cell_type": "markdown",
   "id": "4e2d1c53-b362-4736-8069-e963f5d8a36d",
   "metadata": {},
   "source": [
    "Q4. Conduct an F-test for known variances:\n",
    "\n",
    "from scipy.stats import f\n",
    "\n",
    "variance1 = 10\n",
    "variance2 = 15\n",
    "n1 = 12\n",
    "n2 = 12\n",
    "\n",
    "f_value = variance1 / variance2\n",
    "df1 = n1 - 1\n",
    "df2 = n2 - 1\n",
    "p_value = 2 * min(f.cdf(f_value, df1, df2), 1 - f.cdf(f_value, df1, df2))\n",
    "\n",
    "# Test significance at 5% level\n",
    "alpha = 0.05\n",
    "if p_value < alpha:\n",
    "    print(\"Reject the null hypothesis. Variances are significantly different.\")\n",
    "else:\n",
    "    print(\"Fail to reject the null hypothesis. Variances are not significantly different.\")\n"
   ]
  },
  {
   "cell_type": "markdown",
   "id": "4370ca83-d497-4842-b837-5855143914b1",
   "metadata": {},
   "source": [
    "Q5. Conduct an F-test for claimed variance:\n",
    "\n",
    "from scipy.stats import f\n",
    "\n",
    "claimed_variance = 0.005\n",
    "sample_variance = 0.006\n",
    "n = 25\n",
    "\n",
    "f_value = sample_variance / claimed_variance\n",
    "df1 = n - 1\n",
    "df2 = n - 1\n",
    "p_value = 2 * min(f.cdf(f_value, df1, df2), 1 - f.cdf(f_value, df1, df2))\n",
    "\n",
    "# Test significance at 1% level\n",
    "alpha = 0.01\n",
    "if p_value < alpha:\n",
    "    print(\"Reject the null hypothesis. The claim is not justified.\")\n",
    "else:\n",
    "    print(\"Fail to reject the null hypothesis. The claim is justified.\")\n"
   ]
  },
  {
   "cell_type": "code",
   "execution_count": null,
   "id": "f5e3677e-46ac-4ee4-989b-d505873215d4",
   "metadata": {},
   "outputs": [],
   "source": []
  }
 ],
 "metadata": {
  "kernelspec": {
   "display_name": "Python 3 (ipykernel)",
   "language": "python",
   "name": "python3"
  },
  "language_info": {
   "codemirror_mode": {
    "name": "ipython",
    "version": 3
   },
   "file_extension": ".py",
   "mimetype": "text/x-python",
   "name": "python",
   "nbconvert_exporter": "python",
   "pygments_lexer": "ipython3",
   "version": "3.10.8"
  }
 },
 "nbformat": 4,
 "nbformat_minor": 5
}
